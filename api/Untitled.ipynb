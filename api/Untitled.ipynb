{
 "cells": [
  {
   "cell_type": "code",
   "execution_count": 210,
   "metadata": {},
   "outputs": [],
   "source": [
    "import glob\n",
    "import pandas as pd\n",
    "import matplotlib.pyplot as plt\n",
    "import matplotlib.dates as mdates"
   ]
  },
  {
   "cell_type": "code",
   "execution_count": 211,
   "metadata": {},
   "outputs": [],
   "source": [
    "csv_list = glob.glob('csv\\ホロライブ\\*.csv')"
   ]
  },
  {
   "cell_type": "code",
   "execution_count": 212,
   "metadata": {},
   "outputs": [
    {
     "data": {
      "text/plain": [
       "['csv\\\\ホロライブ\\\\不知火フレア動画詳細.csv',\n",
       " 'csv\\\\ホロライブ\\\\兎田ぺこら動画詳細.csv',\n",
       " 'csv\\\\ホロライブ\\\\宝鐘マリン動画詳細.csv',\n",
       " 'csv\\\\ホロライブ\\\\潤羽るしあ動画詳細.csv',\n",
       " 'csv\\\\ホロライブ\\\\白銀ノエル動画詳細.csv']"
      ]
     },
     "execution_count": 212,
     "metadata": {},
     "output_type": "execute_result"
    }
   ],
   "source": [
    "csv_list"
   ]
  },
  {
   "cell_type": "code",
   "execution_count": 213,
   "metadata": {},
   "outputs": [],
   "source": [
    "df_list=[]\n",
    "for i in csv_list:\n",
    "    df_list.append(pd.read_csv(i))"
   ]
  },
  {
   "cell_type": "code",
   "execution_count": 214,
   "metadata": {},
   "outputs": [
    {
     "data": {
      "text/html": [
       "<div>\n",
       "<style scoped>\n",
       "    .dataframe tbody tr th:only-of-type {\n",
       "        vertical-align: middle;\n",
       "    }\n",
       "\n",
       "    .dataframe tbody tr th {\n",
       "        vertical-align: top;\n",
       "    }\n",
       "\n",
       "    .dataframe thead th {\n",
       "        text-align: right;\n",
       "    }\n",
       "</style>\n",
       "<table border=\"1\" class=\"dataframe\">\n",
       "  <thead>\n",
       "    <tr style=\"text-align: right;\">\n",
       "      <th></th>\n",
       "      <th>Unnamed: 0</th>\n",
       "      <th>channelTitle</th>\n",
       "      <th>channelId</th>\n",
       "      <th>video_id</th>\n",
       "      <th>publishedAt</th>\n",
       "      <th>viewCount</th>\n",
       "      <th>likeCount</th>\n",
       "      <th>dislikeCount</th>\n",
       "      <th>commentCount</th>\n",
       "    </tr>\n",
       "  </thead>\n",
       "  <tbody>\n",
       "    <tr>\n",
       "      <th>0</th>\n",
       "      <td>0</td>\n",
       "      <td>Marine Ch. 宝鐘マリン</td>\n",
       "      <td>UCCzUftO8KOVkV4wQG1vkUvg</td>\n",
       "      <td>FHHb9obAYLY</td>\n",
       "      <td>2020-10-10T06:19:57Z</td>\n",
       "      <td>0</td>\n",
       "      <td>751</td>\n",
       "      <td>16</td>\n",
       "      <td>0</td>\n",
       "    </tr>\n",
       "    <tr>\n",
       "      <th>1</th>\n",
       "      <td>1</td>\n",
       "      <td>Marine Ch. 宝鐘マリン</td>\n",
       "      <td>UCCzUftO8KOVkV4wQG1vkUvg</td>\n",
       "      <td>WzHCTEagyoo</td>\n",
       "      <td>2020-10-10T05:56:21Z</td>\n",
       "      <td>0</td>\n",
       "      <td>470</td>\n",
       "      <td>14</td>\n",
       "      <td>0</td>\n",
       "    </tr>\n",
       "    <tr>\n",
       "      <th>2</th>\n",
       "      <td>2</td>\n",
       "      <td>Marine Ch. 宝鐘マリン</td>\n",
       "      <td>UCCzUftO8KOVkV4wQG1vkUvg</td>\n",
       "      <td>_CK9CqU92ko</td>\n",
       "      <td>2020-10-09T14:28:11Z</td>\n",
       "      <td>215553</td>\n",
       "      <td>13511</td>\n",
       "      <td>160</td>\n",
       "      <td>152</td>\n",
       "    </tr>\n",
       "    <tr>\n",
       "      <th>3</th>\n",
       "      <td>3</td>\n",
       "      <td>Marine Ch. 宝鐘マリン</td>\n",
       "      <td>UCCzUftO8KOVkV4wQG1vkUvg</td>\n",
       "      <td>ey1ag5L4Sik</td>\n",
       "      <td>2020-10-08T15:15:38Z</td>\n",
       "      <td>244370</td>\n",
       "      <td>12564</td>\n",
       "      <td>135</td>\n",
       "      <td>57</td>\n",
       "    </tr>\n",
       "    <tr>\n",
       "      <th>4</th>\n",
       "      <td>4</td>\n",
       "      <td>Marine Ch. 宝鐘マリン</td>\n",
       "      <td>UCCzUftO8KOVkV4wQG1vkUvg</td>\n",
       "      <td>5qoMVw1XPxA</td>\n",
       "      <td>2020-10-06T15:16:25Z</td>\n",
       "      <td>255153</td>\n",
       "      <td>15148</td>\n",
       "      <td>77</td>\n",
       "      <td>125</td>\n",
       "    </tr>\n",
       "  </tbody>\n",
       "</table>\n",
       "</div>"
      ],
      "text/plain": [
       "   Unnamed: 0      channelTitle                 channelId     video_id  \\\n",
       "0           0  Marine Ch. 宝鐘マリン  UCCzUftO8KOVkV4wQG1vkUvg  FHHb9obAYLY   \n",
       "1           1  Marine Ch. 宝鐘マリン  UCCzUftO8KOVkV4wQG1vkUvg  WzHCTEagyoo   \n",
       "2           2  Marine Ch. 宝鐘マリン  UCCzUftO8KOVkV4wQG1vkUvg  _CK9CqU92ko   \n",
       "3           3  Marine Ch. 宝鐘マリン  UCCzUftO8KOVkV4wQG1vkUvg  ey1ag5L4Sik   \n",
       "4           4  Marine Ch. 宝鐘マリン  UCCzUftO8KOVkV4wQG1vkUvg  5qoMVw1XPxA   \n",
       "\n",
       "            publishedAt  viewCount  likeCount  dislikeCount  commentCount  \n",
       "0  2020-10-10T06:19:57Z          0        751            16             0  \n",
       "1  2020-10-10T05:56:21Z          0        470            14             0  \n",
       "2  2020-10-09T14:28:11Z     215553      13511           160           152  \n",
       "3  2020-10-08T15:15:38Z     244370      12564           135            57  \n",
       "4  2020-10-06T15:16:25Z     255153      15148            77           125  "
      ]
     },
     "execution_count": 214,
     "metadata": {},
     "output_type": "execute_result"
    }
   ],
   "source": [
    "df_list[2].head()"
   ]
  },
  {
   "cell_type": "code",
   "execution_count": 215,
   "metadata": {},
   "outputs": [
    {
     "name": "stdout",
     "output_type": "stream",
     "text": [
      "[0]\n",
      "[0]\n",
      "[0, 1]\n",
      "[0]\n",
      "[]\n"
     ]
    }
   ],
   "source": [
    "#viewCountが0の行を削除\n",
    "for d,dItem in enumerate(df_list):\n",
    "    drop=[]\n",
    "    drop = list(df_list[d]['viewCount']==0)\n",
    "    drop_list=[]\n",
    "    for i,item in enumerate(drop):\n",
    "        if (item==True):\n",
    "            drop_list.append(i)\n",
    "    print(drop_list)\n",
    "    df_list[d]=df_list[d].drop(drop_list)"
   ]
  },
  {
   "cell_type": "code",
   "execution_count": 216,
   "metadata": {},
   "outputs": [
    {
     "data": {
      "text/html": [
       "<div>\n",
       "<style scoped>\n",
       "    .dataframe tbody tr th:only-of-type {\n",
       "        vertical-align: middle;\n",
       "    }\n",
       "\n",
       "    .dataframe tbody tr th {\n",
       "        vertical-align: top;\n",
       "    }\n",
       "\n",
       "    .dataframe thead th {\n",
       "        text-align: right;\n",
       "    }\n",
       "</style>\n",
       "<table border=\"1\" class=\"dataframe\">\n",
       "  <thead>\n",
       "    <tr style=\"text-align: right;\">\n",
       "      <th></th>\n",
       "      <th>Unnamed: 0</th>\n",
       "      <th>channelTitle</th>\n",
       "      <th>channelId</th>\n",
       "      <th>video_id</th>\n",
       "      <th>publishedAt</th>\n",
       "      <th>viewCount</th>\n",
       "      <th>likeCount</th>\n",
       "      <th>dislikeCount</th>\n",
       "      <th>commentCount</th>\n",
       "    </tr>\n",
       "  </thead>\n",
       "  <tbody>\n",
       "    <tr>\n",
       "      <th>0</th>\n",
       "      <td>0</td>\n",
       "      <td>Noel Ch. 白銀ノエル</td>\n",
       "      <td>UCdyqAaZDKHXg4Ahi7VENThQ</td>\n",
       "      <td>hK-7q9n0mrk</td>\n",
       "      <td>2020-10-09T16:43:54Z</td>\n",
       "      <td>93176</td>\n",
       "      <td>7316</td>\n",
       "      <td>74</td>\n",
       "      <td>4</td>\n",
       "    </tr>\n",
       "    <tr>\n",
       "      <th>1</th>\n",
       "      <td>1</td>\n",
       "      <td>Noel Ch. 白銀ノエル</td>\n",
       "      <td>UCdyqAaZDKHXg4Ahi7VENThQ</td>\n",
       "      <td>_1s1WT0bl5Y</td>\n",
       "      <td>2020-10-08T19:41:58Z</td>\n",
       "      <td>151013</td>\n",
       "      <td>7619</td>\n",
       "      <td>49</td>\n",
       "      <td>17</td>\n",
       "    </tr>\n",
       "    <tr>\n",
       "      <th>2</th>\n",
       "      <td>2</td>\n",
       "      <td>Noel Ch. 白銀ノエル</td>\n",
       "      <td>UCdyqAaZDKHXg4Ahi7VENThQ</td>\n",
       "      <td>Ckj2nXGyQZo</td>\n",
       "      <td>2020-10-08T00:21:35Z</td>\n",
       "      <td>78609</td>\n",
       "      <td>5665</td>\n",
       "      <td>32</td>\n",
       "      <td>32</td>\n",
       "    </tr>\n",
       "    <tr>\n",
       "      <th>3</th>\n",
       "      <td>3</td>\n",
       "      <td>Noel Ch. 白銀ノエル</td>\n",
       "      <td>UCdyqAaZDKHXg4Ahi7VENThQ</td>\n",
       "      <td>EJSICFkVzsg</td>\n",
       "      <td>2020-10-04T09:57:16Z</td>\n",
       "      <td>169115</td>\n",
       "      <td>7910</td>\n",
       "      <td>82</td>\n",
       "      <td>37</td>\n",
       "    </tr>\n",
       "    <tr>\n",
       "      <th>4</th>\n",
       "      <td>4</td>\n",
       "      <td>Noel Ch. 白銀ノエル</td>\n",
       "      <td>UCdyqAaZDKHXg4Ahi7VENThQ</td>\n",
       "      <td>WJk8xzd3OYw</td>\n",
       "      <td>2020-10-03T16:51:21Z</td>\n",
       "      <td>162162</td>\n",
       "      <td>9518</td>\n",
       "      <td>57</td>\n",
       "      <td>84</td>\n",
       "    </tr>\n",
       "  </tbody>\n",
       "</table>\n",
       "</div>"
      ],
      "text/plain": [
       "   Unnamed: 0    channelTitle                 channelId     video_id  \\\n",
       "0           0  Noel Ch. 白銀ノエル  UCdyqAaZDKHXg4Ahi7VENThQ  hK-7q9n0mrk   \n",
       "1           1  Noel Ch. 白銀ノエル  UCdyqAaZDKHXg4Ahi7VENThQ  _1s1WT0bl5Y   \n",
       "2           2  Noel Ch. 白銀ノエル  UCdyqAaZDKHXg4Ahi7VENThQ  Ckj2nXGyQZo   \n",
       "3           3  Noel Ch. 白銀ノエル  UCdyqAaZDKHXg4Ahi7VENThQ  EJSICFkVzsg   \n",
       "4           4  Noel Ch. 白銀ノエル  UCdyqAaZDKHXg4Ahi7VENThQ  WJk8xzd3OYw   \n",
       "\n",
       "            publishedAt  viewCount  likeCount  dislikeCount  commentCount  \n",
       "0  2020-10-09T16:43:54Z      93176       7316            74             4  \n",
       "1  2020-10-08T19:41:58Z     151013       7619            49            17  \n",
       "2  2020-10-08T00:21:35Z      78609       5665            32            32  \n",
       "3  2020-10-04T09:57:16Z     169115       7910            82            37  \n",
       "4  2020-10-03T16:51:21Z     162162       9518            57            84  "
      ]
     },
     "execution_count": 216,
     "metadata": {},
     "output_type": "execute_result"
    }
   ],
   "source": [
    "df_list[4].head()"
   ]
  },
  {
   "cell_type": "code",
   "execution_count": 217,
   "metadata": {},
   "outputs": [
    {
     "name": "stdout",
     "output_type": "stream",
     "text": [
      "Flare Ch. 不知火フレア\n",
      "5147\n",
      "Pekora Ch. 兎田ぺこら\n",
      "30910\n",
      "Marine Ch. 宝鐘マリン\n",
      "19204\n",
      "Rushia Ch. 潤羽るしあ\n",
      "8667\n",
      "Noel Ch. 白銀ノエル\n",
      "9538\n"
     ]
    }
   ],
   "source": [
    "dislikeCount={}\n",
    "for i in df_list:\n",
    "    print(i['channelTitle'].unique()[0])\n",
    "    print(i['dislikeCount'].sum())\n",
    "    dislikeCount[i['channelTitle'].unique()[0]]=i['dislikeCount'].sum()"
   ]
  },
  {
   "cell_type": "code",
   "execution_count": 218,
   "metadata": {},
   "outputs": [
    {
     "name": "stdout",
     "output_type": "stream",
     "text": [
      "Flare Ch. 不知火フレア\n",
      "997404\n",
      "Pekora Ch. 兎田ぺこら\n",
      "1743165\n",
      "Marine Ch. 宝鐘マリン\n",
      "1843530\n",
      "Rushia Ch. 潤羽るしあ\n",
      "959842\n",
      "Noel Ch. 白銀ノエル\n",
      "1030064\n"
     ]
    }
   ],
   "source": [
    "likeCount={}\n",
    "for i in df_list:\n",
    "    print(i['channelTitle'].unique()[0])\n",
    "    print(i['likeCount'].sum())\n",
    "    likeCount[i['channelTitle'].unique()[0]]=i['likeCount'].sum()"
   ]
  },
  {
   "cell_type": "code",
   "execution_count": 219,
   "metadata": {},
   "outputs": [
    {
     "name": "stdout",
     "output_type": "stream",
     "text": [
      "Flare Ch. 不知火フレア\n",
      "17217775\n",
      "Pekora Ch. 兎田ぺこら\n",
      "48504624\n",
      "Marine Ch. 宝鐘マリン\n",
      "46074621\n",
      "Rushia Ch. 潤羽るしあ\n",
      "16984041\n",
      "Noel Ch. 白銀ノエル\n",
      "26062942\n"
     ]
    }
   ],
   "source": [
    "viewCount={}\n",
    "for i in df_list:\n",
    "    print(i['channelTitle'].unique()[0])\n",
    "    print(i['viewCount'].sum())\n",
    "    viewCount[i['channelTitle'].unique()[0]]=(i['viewCount'].sum()//10000)#小数点切り捨て"
   ]
  },
  {
   "cell_type": "code",
   "execution_count": 220,
   "metadata": {},
   "outputs": [],
   "source": [
    "dislikeCount_key=[]\n",
    "dislikeCount_values=[]\n",
    "for i in dislikeCount.values():\n",
    "    likeCount_values.append(i)\n",
    "for i in dislikeCount.keys():\n",
    "    likeCount_key.append(i)"
   ]
  },
  {
   "cell_type": "code",
   "execution_count": 221,
   "metadata": {},
   "outputs": [],
   "source": [
    "likeCount_key=[]\n",
    "likeCount_values=[]\n",
    "for i in likeCount.values():\n",
    "    likeCount_values.append(i)\n",
    "for i in likeCount.keys():\n",
    "    likeCount_key.append(i)"
   ]
  },
  {
   "cell_type": "code",
   "execution_count": 222,
   "metadata": {},
   "outputs": [
    {
     "data": {
      "text/plain": [
       "['Flare Ch. 不知火フレア',\n",
       " 'Pekora Ch. 兎田ぺこら',\n",
       " 'Marine Ch. 宝鐘マリン',\n",
       " 'Rushia Ch. 潤羽るしあ',\n",
       " 'Noel Ch. 白銀ノエル']"
      ]
     },
     "execution_count": 222,
     "metadata": {},
     "output_type": "execute_result"
    }
   ],
   "source": [
    "likeCount_key"
   ]
  },
  {
   "cell_type": "code",
   "execution_count": 223,
   "metadata": {},
   "outputs": [
    {
     "data": {
      "text/plain": [
       "{'Flare Ch. 不知火フレア': 1721,\n",
       " 'Pekora Ch. 兎田ぺこら': 4850,\n",
       " 'Marine Ch. 宝鐘マリン': 4607,\n",
       " 'Rushia Ch. 潤羽るしあ': 1698,\n",
       " 'Noel Ch. 白銀ノエル': 2606}"
      ]
     },
     "execution_count": 223,
     "metadata": {},
     "output_type": "execute_result"
    }
   ],
   "source": [
    "viewCount"
   ]
  },
  {
   "cell_type": "code",
   "execution_count": 224,
   "metadata": {},
   "outputs": [
    {
     "data": {
      "text/plain": [
       "dict_keys(['Flare Ch. 不知火フレア', 'Pekora Ch. 兎田ぺこら', 'Marine Ch. 宝鐘マリン', 'Rushia Ch. 潤羽るしあ', 'Noel Ch. 白銀ノエル'])"
      ]
     },
     "execution_count": 224,
     "metadata": {},
     "output_type": "execute_result"
    }
   ],
   "source": [
    "viewCount.keys()"
   ]
  },
  {
   "cell_type": "code",
   "execution_count": 225,
   "metadata": {},
   "outputs": [
    {
     "data": {
      "text/plain": [
       "dict_values([1721, 4850, 4607, 1698, 2606])"
      ]
     },
     "execution_count": 225,
     "metadata": {},
     "output_type": "execute_result"
    }
   ],
   "source": [
    "viewCount.values()"
   ]
  },
  {
   "cell_type": "code",
   "execution_count": 226,
   "metadata": {},
   "outputs": [],
   "source": [
    "import japanize_matplotlib\n",
    "import numpy as np"
   ]
  },
  {
   "cell_type": "code",
   "execution_count": 227,
   "metadata": {},
   "outputs": [],
   "source": [
    "viewCount_nplist=np.array(viewCount.values())"
   ]
  },
  {
   "cell_type": "code",
   "execution_count": null,
   "metadata": {},
   "outputs": [],
   "source": []
  },
  {
   "cell_type": "code",
   "execution_count": 230,
   "metadata": {},
   "outputs": [
    {
     "data": {
      "image/png": "[encoded data removed]",
      "text/plain": [
       "<Figure size 864x576 with 2 Axes>"
      ]
     },
     "metadata": {
      "needs_background": "light"
     },
     "output_type": "display_data"
    }
   ],
   "source": [
    "fig = plt.figure(figsize=(12, 8))\n",
    "ax = fig.add_subplot(111)\n",
    "ax2 = ax.twinx()\n",
    "x=len(likeCount)\n",
    "bar_width = 0.4\n",
    "ax.bar(viewCount.keys(), viewCount.values(), width=bar_width,label='再生数')\n",
    "ax2.plot(likeCount_key, likeCount_values,label='高評価',color='red')\n",
    "ax.set_title('再生数比較',fontsize=20)\n",
    "ax.set_xlabel('チャンネル名',fontsize=15)\n",
    "ax.set_ylabel('再生数(万)',fontsize=15)\n",
    "ax2.set_ylabel(\"高評価\",fontsize=15)\n",
    "#ax.set_ylim(0, 50000000) y軸範囲\n",
    "ax.legend()\n",
    "ax2.legend(loc='upper center')\n",
    "plt.show()"
   ]
  },
  {
   "cell_type": "code",
   "execution_count": null,
   "metadata": {},
   "outputs": [],
   "source": []
  }
 ],
 "metadata": {
  "kernelspec": {
   "display_name": "Python 3",
   "language": "python",
   "name": "python3"
  },
  "language_info": {
   "codemirror_mode": {
    "name": "ipython",
    "version": 3
   },
   "file_extension": ".py",
   "mimetype": "text/x-python",
   "name": "python",
   "nbconvert_exporter": "python",
   "pygments_lexer": "ipython3",
   "version": "3.7.6"
  }
 },
 "nbformat": 4,
 "nbformat_minor": 4
}
