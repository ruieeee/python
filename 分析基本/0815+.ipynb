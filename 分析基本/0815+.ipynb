{
 "cells": [
  {
   "cell_type": "markdown",
   "metadata": {},
   "source": [
    "## np.dot()のような関数を作成"
   ]
  },
  {
   "cell_type": "code",
   "execution_count": 2,
   "metadata": {},
   "outputs": [],
   "source": [
    "import numpy as np"
   ]
  },
  {
   "cell_type": "code",
   "execution_count": 137,
   "metadata": {},
   "outputs": [],
   "source": [
    "a =np.array([\n",
    "    [1,2,3,4,5],\n",
    "    [6,7,8,9,0],\n",
    "    [4,9,7,8,9],\n",
    "])\n",
    "\n",
    "b = np.array([\n",
    "    [1,6,4],\n",
    "    [2,7,9],\n",
    "    [3,8,7],\n",
    "    [4,9,8],\n",
    "    [5,0,9]\n",
    "])"
   ]
  },
  {
   "cell_type": "code",
   "execution_count": 138,
   "metadata": {},
   "outputs": [
    {
     "data": {
      "text/plain": [
       "(3, 5)"
      ]
     },
     "execution_count": 138,
     "metadata": {},
     "output_type": "execute_result"
    }
   ],
   "source": [
    "np.shape(a)"
   ]
  },
  {
   "cell_type": "code",
   "execution_count": 139,
   "metadata": {},
   "outputs": [
    {
     "data": {
      "text/plain": [
       "(5, 3)"
      ]
     },
     "execution_count": 139,
     "metadata": {},
     "output_type": "execute_result"
    }
   ],
   "source": [
    "np.shape(b)"
   ]
  },
  {
   "cell_type": "code",
   "execution_count": 140,
   "metadata": {},
   "outputs": [
    {
     "data": {
      "text/plain": [
       "array([[ 55,  80, 120],\n",
       "       [ 80, 230, 215],\n",
       "       [120, 215, 291]])"
      ]
     },
     "execution_count": 140,
     "metadata": {},
     "output_type": "execute_result"
    }
   ],
   "source": [
    "np.dot(a,b)"
   ]
  },
  {
   "cell_type": "code",
   "execution_count": 141,
   "metadata": {},
   "outputs": [],
   "source": [
    "q = np.arange(12)"
   ]
  },
  {
   "cell_type": "code",
   "execution_count": 142,
   "metadata": {},
   "outputs": [],
   "source": [
    "q = q.reshape((3, 4))"
   ]
  },
  {
   "cell_type": "code",
   "execution_count": 143,
   "metadata": {},
   "outputs": [
    {
     "data": {
      "text/plain": [
       "array([[ 0,  1,  2,  3],\n",
       "       [ 4,  5,  6,  7],\n",
       "       [ 8,  9, 10, 11]])"
      ]
     },
     "execution_count": 143,
     "metadata": {},
     "output_type": "execute_result"
    }
   ],
   "source": [
    "q"
   ]
  },
  {
   "cell_type": "code",
   "execution_count": 144,
   "metadata": {},
   "outputs": [],
   "source": [
    "a_0 = a.shape[0]\n",
    "b_1 = b.shape[1]\n",
    "ab = b.shape[0]"
   ]
  },
  {
   "cell_type": "code",
   "execution_count": 145,
   "metadata": {},
   "outputs": [],
   "source": [
    "z = np.array([])\n",
    "\n",
    "for y in range(a_0):\n",
    "    for x in range(b_1):\n",
    "        s = 0\n",
    "        for i in range(ab):\n",
    "            s += a[y][i]*b[i][x]\n",
    "        z = np.append(z,s)\n",
    "z = z.reshape((b_1, a_0))"
   ]
  },
  {
   "cell_type": "code",
   "execution_count": 146,
   "metadata": {},
   "outputs": [
    {
     "data": {
      "text/plain": [
       "array([[ 55.,  80., 120.],\n",
       "       [ 80., 230., 215.],\n",
       "       [120., 215., 291.]])"
      ]
     },
     "execution_count": 146,
     "metadata": {},
     "output_type": "execute_result"
    }
   ],
   "source": [
    "z"
   ]
  },
  {
   "cell_type": "markdown",
   "metadata": {},
   "source": [
    "### 関数"
   ]
  },
  {
   "cell_type": "code",
   "execution_count": 147,
   "metadata": {},
   "outputs": [],
   "source": [
    "def np_dot (a,b):\n",
    "    z = np.array([])\n",
    "    \n",
    "    #引数が2次元配列でない場合\n",
    "    if not a.ndim == 2 and b.ndim == 2:\n",
    "        print('引数を2次元配列にしてください')\n",
    "        return z\n",
    "    #左の列数と右の行数が等しくない場合\n",
    "    if not a.shape[1] == b.shape[0]:\n",
    "        print('左の列数と右の行数が等しくありません')\n",
    "        return z\n",
    "    \n",
    "    for y in range(a.shape[0]):\n",
    "        for x in range(b.shape[1]):\n",
    "            s = 0\n",
    "            for i in range(b.shape[0]):\n",
    "                s += a[y][i]*b[i][x]\n",
    "            z = np.append(z,s)\n",
    "    z = z.reshape(( a.shape[0],b.shape[1]))\n",
    "    return z"
   ]
  },
  {
   "cell_type": "code",
   "execution_count": 148,
   "metadata": {},
   "outputs": [
    {
     "data": {
      "text/plain": [
       "array([[ 55.,  80., 120.],\n",
       "       [ 80., 230., 215.],\n",
       "       [120., 215., 291.]])"
      ]
     },
     "execution_count": 148,
     "metadata": {},
     "output_type": "execute_result"
    }
   ],
   "source": [
    "np_dot(a,b)"
   ]
  },
  {
   "cell_type": "code",
   "execution_count": 149,
   "metadata": {},
   "outputs": [
    {
     "data": {
      "text/plain": [
       "array([[ 55,  80, 120],\n",
       "       [ 80, 230, 215],\n",
       "       [120, 215, 291]])"
      ]
     },
     "execution_count": 149,
     "metadata": {},
     "output_type": "execute_result"
    }
   ],
   "source": [
    "np.dot(a,b)"
   ]
  },
  {
   "cell_type": "code",
   "execution_count": 150,
   "metadata": {},
   "outputs": [],
   "source": [
    "a2 =np.array([\n",
    "    [1,2,3,4,5],\n",
    "    [6,7,8,9,0],\n",
    "    [4,9,7,8,9],\n",
    "])\n",
    "\n",
    "b2 = np.array([\n",
    "    [1,6,4,5],\n",
    "    [2,7,9,7],\n",
    "    [3,8,7,1],\n",
    "    [4,9,8,0],\n",
    "    [5,0,9,3]\n",
    "])"
   ]
  },
  {
   "cell_type": "code",
   "execution_count": 151,
   "metadata": {},
   "outputs": [
    {
     "data": {
      "text/plain": [
       "array([[ 55.,  80., 120.,  37.],\n",
       "       [ 80., 230., 215.,  87.],\n",
       "       [120., 215., 291., 117.]])"
      ]
     },
     "execution_count": 151,
     "metadata": {},
     "output_type": "execute_result"
    }
   ],
   "source": [
    "np_dot(a2,b2)"
   ]
  },
  {
   "cell_type": "code",
   "execution_count": 152,
   "metadata": {},
   "outputs": [
    {
     "data": {
      "text/plain": [
       "array([[ 55,  80, 120,  37],\n",
       "       [ 80, 230, 215,  87],\n",
       "       [120, 215, 291, 117]])"
      ]
     },
     "execution_count": 152,
     "metadata": {},
     "output_type": "execute_result"
    }
   ],
   "source": [
    "np.dot(a2,b2)"
   ]
  },
  {
   "cell_type": "code",
   "execution_count": 153,
   "metadata": {},
   "outputs": [],
   "source": [
    "a3 =np.array([\n",
    "    [1,2,3,4,5],\n",
    "    [6,7,8,9,0],\n",
    "    [4,9,7,8,9]\n",
    "])\n",
    "\n",
    "b3 = np.array([\n",
    "    [1,6,4,5],\n",
    "    [2,7,9,7],\n",
    "    [3,8,7,1],\n",
    "    [4,9,8,0],\n",
    "    [5,0,9,3],\n",
    "    [5,0,9,3]\n",
    "])"
   ]
  },
  {
   "cell_type": "code",
   "execution_count": 154,
   "metadata": {},
   "outputs": [
    {
     "name": "stdout",
     "output_type": "stream",
     "text": [
      "左の列数と右の行数が等しくありません\n"
     ]
    },
    {
     "data": {
      "text/plain": [
       "array([], dtype=float64)"
      ]
     },
     "execution_count": 154,
     "metadata": {},
     "output_type": "execute_result"
    }
   ],
   "source": [
    "np_dot(a3,b3)"
   ]
  },
  {
   "cell_type": "code",
   "execution_count": 155,
   "metadata": {},
   "outputs": [
    {
     "data": {
      "text/plain": [
       "3"
      ]
     },
     "execution_count": 155,
     "metadata": {},
     "output_type": "execute_result"
    }
   ],
   "source": [
    "a4 =np.array(\n",
    "    [[\n",
    "    [1,2,3,4,5],\n",
    "    [6,7,8,9,0],\n",
    "    [4,9,7,8,9]\n",
    "    ],\n",
    "     [\n",
    "    [1,2,3,4,5],\n",
    "    [6,7,8,9,0],\n",
    "    [4,9,7,8,9]\n",
    "    ]]\n",
    "    )\n",
    "a4.ndim"
   ]
  },
  {
   "cell_type": "code",
   "execution_count": 156,
   "metadata": {},
   "outputs": [
    {
     "name": "stdout",
     "output_type": "stream",
     "text": [
      "引数を2次元配列にしてください\n"
     ]
    },
    {
     "data": {
      "text/plain": [
       "array([], dtype=float64)"
      ]
     },
     "execution_count": 156,
     "metadata": {},
     "output_type": "execute_result"
    }
   ],
   "source": [
    "np_dot(a4,b)"
   ]
  },
  {
   "cell_type": "code",
   "execution_count": null,
   "metadata": {},
   "outputs": [],
   "source": []
  }
 ],
 "metadata": {
  "kernelspec": {
   "display_name": "Python 3",
   "language": "python",
   "name": "python3"
  },
  "language_info": {
   "codemirror_mode": {
    "name": "ipython",
    "version": 3
   },
   "file_extension": ".py",
   "mimetype": "text/x-python",
   "name": "python",
   "nbconvert_exporter": "python",
   "pygments_lexer": "ipython3",
   "version": "3.7.6"
  }
 },
 "nbformat": 4,
 "nbformat_minor": 4
}
